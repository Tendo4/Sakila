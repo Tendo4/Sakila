{
 "cells": [
  {
   "cell_type": "code",
   "execution_count": 1,
   "id": "8a62a8c4",
   "metadata": {},
   "outputs": [
    {
     "ename": "SyntaxError",
     "evalue": "invalid syntax (3737270854.py, line 1)",
     "output_type": "error",
     "traceback": [
      "\u001b[1;36m  Cell \u001b[1;32mIn[1], line 1\u001b[1;36m\u001b[0m\n\u001b[1;33m    SELECT customer.first_name,customer.last_name,customer.email,address.address\u001b[0m\n\u001b[1;37m           ^\u001b[0m\n\u001b[1;31mSyntaxError\u001b[0m\u001b[1;31m:\u001b[0m invalid syntax\n"
     ]
    }
   ],
   "source": [
    "#QN 1\n",
    "SELECT customer.first_name,customer.last_name,customer.email,address.address\n",
    "FROM address\n",
    "JOIN customer\n",
    "ON address.address_id=customer.address_id;"
   ]
  },
  {
   "cell_type": "code",
   "execution_count": null,
   "id": "ecf526ad",
   "metadata": {},
   "outputs": [],
   "source": [
    "#QN 2\n",
    "select film.title, film.description, film.release_year,film.rating,film.special_features\n",
    "from film\n",
    "join film_category\n",
    "where film.film_id=film_category.film_id\n",
    "(select category.name\n",
    "from category\n",
    "where category.name='comedy'\n",
    ");"
   ]
  },
  {
   "cell_type": "code",
   "execution_count": null,
   "id": "734d0b1a",
   "metadata": {},
   "outputs": [],
   "source": [
    "#QN 3\n",
    "select film.title,film.release_year\n",
    "from film\n",
    "where (select actor.last_name\n",
    "from actor\n",
    "where last_name='LOLLOBRIGIDA')"
   ]
  },
  {
   "cell_type": "code",
   "execution_count": null,
   "id": "7a5dccc4",
   "metadata": {},
   "outputs": [],
   "source": [
    "#QN 4\n",
    "select actor.first_name,actor.last_name(\n",
    "select film.title\n",
    "from film\n",
    "where film.title='Bingo Talented'\n",
    ")\n",
    "from actor;"
   ]
  },
  {
   "cell_type": "code",
   "execution_count": null,
   "id": "71757430",
   "metadata": {},
   "outputs": [],
   "source": [
    "#QN 5\n",
    "select customer.customer_id,payment.amount\n",
    "from customer\n",
    "join payment\n",
    "on customer.customer_id=payment.customer_id\n",
    "where payment.amount>(SELECT 2*AVG(payment.amount)\n",
    "  FROM payment);"
   ]
  },
  {
   "cell_type": "code",
   "execution_count": null,
   "id": "4cef5318",
   "metadata": {},
   "outputs": [],
   "source": [
    "#QN 6\n",
    "select customer.first_name,customer.last_name,payment.amount as num_payments\n",
    "from customer\n",
    "join payment\n",
    "on customer.customer_id=payment.customer_id\n",
    "where payment.amount=(SELECT MAX(payment.amount)\n",
    "  FROM payment)\n",
    "limit 5  ;"
   ]
  }
 ],
 "metadata": {
  "kernelspec": {
   "display_name": "Python 3 (ipykernel)",
   "language": "python",
   "name": "python3"
  },
  "language_info": {
   "codemirror_mode": {
    "name": "ipython",
    "version": 3
   },
   "file_extension": ".py",
   "mimetype": "text/x-python",
   "name": "python",
   "nbconvert_exporter": "python",
   "pygments_lexer": "ipython3",
   "version": "3.11.5"
  }
 },
 "nbformat": 4,
 "nbformat_minor": 5
}
